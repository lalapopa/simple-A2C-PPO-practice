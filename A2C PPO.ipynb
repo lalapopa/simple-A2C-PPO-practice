{
 "cells": [
  {
   "cell_type": "markdown",
   "metadata": {},
   "source": [
    "# Actor Critic with PPO\n",
    "\n",
    "There are two main portions to this notebook \n",
    "- Gathering trajectories\n",
    "- Learning from the trajectories\n",
    "\n",
    "Notebook designed for readability and exploration rather than production. Uses a single GPU. For an industrial-strength PPO in PyTorch check out [ikostrikov's](https://github.com/ikostrikov/pytorch-a2c-ppo-acktr-gail). For the 'definitive' implementation of PPO, check out [OpenAI baselines](https://github.com/openai/baselines/tree/master/baselines/ppo2) (tensorflow).\n",
    "\n",
    "Experiments below reproduce results from OpenAI's [procedually-generated environments](https://openai.com/blog/procgen-benchmark/). All hyperparameters taken directly from the [procgen paper](https://arxiv.org/abs/1912.01588). Everything built from scratch unless otherwise noted in effort to gain intuition."
   ]
  },
  {
   "cell_type": "code",
   "execution_count": 3,
   "metadata": {
    "colab": {
     "base_uri": "https://localhost:8080/",
     "height": 67
    },
    "colab_type": "code",
    "id": "AoHncnzFE3sh",
    "outputId": "24a62a39-5e67-4c67-e4c3-ab02e7368420"
   },
   "outputs": [
    {
     "name": "stdout",
     "output_type": "stream",
     "text": [
      "The autoreload extension is already loaded. To reload it, use:\n",
      "  %reload_ext autoreload\n"
     ]
    },
    {
     "ename": "ModuleNotFoundError",
     "evalue": "No module named 'cv2'",
     "output_type": "error",
     "traceback": [
      "\u001b[0;31m---------------------------------------------------------------------------\u001b[0m",
      "\u001b[0;31mModuleNotFoundError\u001b[0m                       Traceback (most recent call last)",
      "Cell \u001b[0;32mIn[3], line 12\u001b[0m\n\u001b[1;32m     10\u001b[0m \u001b[38;5;28;01mimport\u001b[39;00m \u001b[38;5;21;01mgymnasium\u001b[39;00m \u001b[38;5;28;01mas\u001b[39;00m \u001b[38;5;21;01mgym\u001b[39;00m\n\u001b[1;32m     11\u001b[0m \u001b[38;5;28;01mimport\u001b[39;00m \u001b[38;5;21;01mrandom\u001b[39;00m\n\u001b[0;32m---> 12\u001b[0m \u001b[38;5;28;01mimport\u001b[39;00m \u001b[38;5;21;01mcv2\u001b[39;00m\n",
      "\u001b[0;31mModuleNotFoundError\u001b[0m: No module named 'cv2'"
     ]
    }
   ],
   "source": [
    "%matplotlib inline\n",
    "%load_ext autoreload\n",
    "%autoreload 2\n",
    "\n",
    "import torch\n",
    "import torch.nn as nn\n",
    "import torch.nn.functional as F\n",
    "import numpy as np\n",
    "import matplotlib.pyplot as plt\n",
    "import gymnasium as gym\n",
    "import random\n",
    "import cv2"
   ]
  },
  {
   "cell_type": "code",
   "execution_count": null,
   "metadata": {},
   "outputs": [],
   "source": [
    "# Check for cuda. Can run on CPU if necessary. \n",
    "\n",
    "\n",
    "device = 'cpu'"
   ]
  },
  {
   "cell_type": "code",
   "execution_count": 10,
   "metadata": {
    "colab": {},
    "colab_type": "code",
    "id": "K4Ju-bB2FLFn"
   },
   "outputs": [],
   "source": [
    "# If no local GPU or want to run multiple notebooks simultaneously, use Google Colab. In that case, have to install procgen\n",
    "\n",
    "try: \n",
    "    from procgen import ProcgenEnv\n",
    "except: \n",
    "    !pip install procgen\n",
    "    from procgen import ProcgenEnv"
   ]
  },
  {
   "cell_type": "code",
   "execution_count": 11,
   "metadata": {
    "colab": {
     "base_uri": "https://localhost:8080/",
     "height": 236,
     "resources": {
      "http://localhost:8080/nbextensions/google.colab/files.js": {
       "data": "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",
       "headers": [
        [
         "content-type",
         "application/javascript"
        ]
       ],
       "ok": true,
       "status": 200,
       "status_text": ""
      }
     }
    },
    "colab_type": "code",
    "id": "-9TG0rO2GTBH",
    "outputId": "76380af1-1abf-4609-a347-dacd03df5578"
   },
   "outputs": [],
   "source": [
    "# Same thing, for colab.\n",
    "\n",
    "try:\n",
    "    from utils import *\n",
    "    from models import *\n",
    "except:\n",
    "    from google.colab import files\n",
    "    src = list(files.upload().values())[0] # grab files from local and upload to colab\n",
    "    from utils import *\n",
    "    from models import *"
   ]
  },
  {
   "cell_type": "markdown",
   "metadata": {},
   "source": [
    "## Agent\n",
    "Using \"Impala CNN\" as referenced in procgen paper. Architecture from [the original IMPALA paper](https://arxiv.org/abs/1802.01561). Basically just a small vanilla resnet (0.3M params)"
   ]
  },
  {
   "cell_type": "code",
   "execution_count": 12,
   "metadata": {
    "colab": {},
    "colab_type": "code",
    "id": "ACApmQdsE3sw"
   },
   "outputs": [
    {
     "data": {
      "text/plain": [
       "'0.308 M params'"
      ]
     },
     "execution_count": 12,
     "metadata": {},
     "output_type": "execute_result"
    }
   ],
   "source": [
    "agent = ImpalaCNN().to(device) # see models.py for architecture\n",
    "get_n_params(agent)"
   ]
  },
  {
   "cell_type": "markdown",
   "metadata": {},
   "source": [
    "## Environment\n",
    "\n",
    "There are 16 procedurally-generated environments to choose from. Goal is to encourage and test ability to generalize rather than overfit to specific game. \n",
    "\n",
    "Using [vectorized environments](https://stable-baselines.readthedocs.io/en/master/guide/vec_envs.html) from OpenAI. Vecenvs are normal envs stacked side by side. They progress \"shoulder to shoulder\", giving us more variety in our rollouts than a single env could. To change environment simply swap out env_name. Nothing else changes. Currently set to 'easy' setting but also replicated results on 'hard'. To train on 'hard', increase training steps from 25M to 200M and do gradient accumulation of 4 steps to mimic four workers (see below). "
   ]
  },
  {
   "cell_type": "code",
   "execution_count": 13,
   "metadata": {
    "colab": {},
    "colab_type": "code",
    "id": "vCpcHwaCE3s5"
   },
   "outputs": [],
   "source": [
    "n_envs = 72 # Procgen paper uses 64 but that's the same shape as img size. Prefer unique dims to faciliate debugging.\n",
    "n_levels = 0 # Zero for all levels\n",
    "env_name = 'starpilot' \n",
    "\n",
    "env = ProcgenEnv(num_envs=n_envs, env_name=env_name, start_level=0, num_levels=n_levels, distribution_mode='easy')\n",
    "env = VecExtractDictObs(env, \"rgb\") \n",
    "env = VecMonitor(env)\n",
    "env = VecNormalize(env, ob=False) # normalizing returns, but not the img frames.\n",
    "#env = VecFrameStack(env, nstack=4) # procgen paper found limited help from framestacking"
   ]
  },
  {
   "cell_type": "code",
   "execution_count": 14,
   "metadata": {
    "scrolled": true
   },
   "outputs": [],
   "source": [
    "# Load trained model if you have one\n",
    "\n",
    "load_pretrained = False\n",
    "\n",
    "if load_pretrained:\n",
    "    try:\n",
    "        agent.load_state_dict(torch.load(env_name+\" agent.torch\"), strict=False)\n",
    "        print(\"Successfully loaded saved model!\")\n",
    "    except:\n",
    "        print(\"No model saved yet\")"
   ]
  },
  {
   "cell_type": "code",
   "execution_count": 15,
   "metadata": {
    "colab": {
     "base_uri": "https://localhost:8080/",
     "height": 151
    },
    "colab_type": "code",
    "id": "L3FX9JPQE3s9",
    "outputId": "f676c6da-8f76-4ccc-f048-492491f22753",
    "scrolled": true
   },
   "outputs": [
    {
     "data": {
      "text/plain": [
       "(72, 64, 64, 3)"
      ]
     },
     "execution_count": 15,
     "metadata": {},
     "output_type": "execute_result"
    }
   ],
   "source": [
    "# take random first step in our envs\n",
    "\n",
    "env.reset()\n",
    "frame, reward, done, info = env.step(np.array([env.action_space.sample() for _ in range(n_envs)])); \n",
    "frame.shape"
   ]
  },
  {
   "cell_type": "code",
   "execution_count": 16,
   "metadata": {
    "colab": {
     "base_uri": "https://localhost:8080/",
     "height": 285
    },
    "colab_type": "code",
    "id": "C4msy7YpE3tE",
    "outputId": "c6171666-9f2f-4eda-9bb9-a6d9d7bc2a16"
   },
   "outputs": [
    {
     "data": {
      "text/plain": [
       "<matplotlib.image.AxesImage at 0x7f5e022a04f0>"
      ]
     },
     "execution_count": 16,
     "metadata": {},
     "output_type": "execute_result"
    },
    {
     "data": {
      "image/png": "[encoded data removed]",
      "text/plain": [
       "<Figure size 640x480 with 1 Axes>"
      ]
     },
     "metadata": {},
     "output_type": "display_data"
    }
   ],
   "source": [
    "plt.imshow(frame[0])"
   ]
  },
  {
   "cell_type": "code",
   "execution_count": 17,
   "metadata": {
    "colab": {},
    "colab_type": "code",
    "id": "w5pCYBzsE3tH"
   },
   "outputs": [
    {
     "data": {
      "text/plain": [
       "torch.Size([72, 3, 64, 64])"
      ]
     },
     "execution_count": 17,
     "metadata": {},
     "output_type": "execute_result"
    }
   ],
   "source": [
    "frame = np_to_pytorch_img(frame).to(device)\n",
    "frame.shape"
   ]
  },
  {
   "cell_type": "code",
   "execution_count": 19,
   "metadata": {
    "colab": {
     "base_uri": "https://localhost:8080/",
     "height": 1000
    },
    "colab_type": "code",
    "id": "_o8hdtGyE3tN",
    "outputId": "14837f6d-5746-431a-9f6b-f1f28903b976",
    "scrolled": true
   },
   "outputs": [
    {
     "data": {
      "text/plain": [
       "(torch.Size([72, 15]), torch.Size([72, 1]))"
      ]
     },
     "execution_count": 19,
     "metadata": {},
     "output_type": "execute_result"
    }
   ],
   "source": [
    "# Test out agent and env\n",
    "\n",
    "with torch.no_grad():\n",
    "    action_log_probs, state_estimate = agent(frame); \n",
    "\n",
    "action_log_probs.shape, state_estimate.shape"
   ]
  },
  {
   "cell_type": "code",
   "execution_count": 26,
   "metadata": {
    "colab": {
     "base_uri": "https://localhost:8080/",
     "height": 84
    },
    "colab_type": "code",
    "id": "1ijv2mhpE3tY",
    "outputId": "509224a1-6c44-4828-c00a-ab41a1602183"
   },
   "outputs": [
    {
     "data": {
      "text/plain": [
       "tensor([12, 12,  6,  4, 11,  6,  7, 13,  4,  4,  1,  0, 10,  8, 14, 11, 13,  3,\n",
       "         3, 10, 10,  1, 12, 14,  5,  6, 14,  5,  4,  1,  4,  9, 13,  5,  5,  2,\n",
       "         2, 13,  7, 11,  8, 14,  7,  2,  3, 13, 10, 10, 11,  7,  0,  7,  1,  3,\n",
       "         4,  2,  8,  0,  2,  9,  0,  8, 13,  7,  3, 14,  3,  7, 14,  9,  8,  8])"
      ]
     },
     "execution_count": 26,
     "metadata": {},
     "output_type": "execute_result"
    }
   ],
   "source": [
    "# Sample an action from the action probs distribution.\n",
    "\n",
    "get_action(action_log_probs)"
   ]
  },
  {
   "cell_type": "markdown",
   "metadata": {
    "colab": {},
    "colab_type": "code",
    "id": "1K7GWtJuE3te"
   },
   "source": [
    "## Calculate Returns\n",
    "\n",
    "Using [Generalized Advantage Estimation (GAE)](https://arxiv.org/abs/1506.02438). Also have vanilla discounted returns for comparison"
   ]
  },
  {
   "cell_type": "code",
   "execution_count": 99,
   "metadata": {
    "colab": {},
    "colab_type": "code",
    "id": "1LS-zWKXE3tf",
    "scrolled": true
   },
   "outputs": [],
   "source": [
    "# Manually create a mock dataset of rewards to inspect our returns calculators\n",
    "\n",
    "rewards = np.zeros((32, 5)) # shape mimics 5 envs taking 32 steps. This is like how we'll get it from vecenvs\n",
    "\n",
    "rewards[10, 1] = 3\n",
    "rewards[5, 3] = 4\n",
    "rewards[20, 0] = 5\n",
    "rewards[31, 0] = 3.66\n",
    "\n",
    "dones = np.zeros_like(rewards)\n",
    "dones[5, 1] = 1\n",
    "dones[15, 3] = 1\n",
    "dones[20, 0] = 1"
   ]
  },
  {
   "cell_type": "code",
   "execution_count": 100,
   "metadata": {
    "colab": {
     "base_uri": "https://localhost:8080/",
     "height": 554
    },
    "colab_type": "code",
    "id": "XAvfCgNiE3tk",
    "outputId": "996d705f-da61-49ba-d23b-bd57674c9345",
    "scrolled": true
   },
   "outputs": [
    {
     "name": "stdout",
     "output_type": "stream",
     "text": [
      "0.0 + (0.0 * 0.95) * 1.0) = 0.0\n",
      "0.0 + (0.0 * 0.95) * 1.0) = 0.0\n",
      "0.0 + (0.0 * 0.95) * 1.0) = 0.0\n",
      "0.0 + (0.0 * 0.95) * 1.0) = 0.0\n",
      "0.0 + (0.0 * 0.95) * 1.0) = 0.0\n",
      "0.0 + (0.0 * 0.95) * 1.0) = 0.0\n",
      "0.0 + (0.0 * 0.95) * 1.0) = 0.0\n",
      "0.0 + (0.0 * 0.95) * 1.0) = 0.0\n",
      "0.0 + (0.0 * 0.95) * 1.0) = 0.0\n",
      "0.0 + (0.0 * 0.95) * 1.0) = 0.0\n",
      "0.0 + (0.0 * 0.95) * 1.0) = 0.0\n",
      "0.0 + (0.0 * 0.95) * 1.0) = 0.0\n",
      "0.0 + (0.0 * 0.95) * 1.0) = 0.0\n",
      "0.0 + (0.0 * 0.95) * 1.0) = 0.0\n",
      "0.0 + (0.0 * 0.95) * 1.0) = 0.0\n",
      "0.0 + (0.0 * 0.95) * 1.0) = 0.0\n",
      "0.0 + (0.0 * 0.95) * 1.0) = 0.0\n",
      "0.0 + (0.0 * 0.95) * 1.0) = 0.0\n",
      "0.0 + (0.0 * 0.95) * 1.0) = 0.0\n",
      "0.0 + (0.0 * 0.95) * 1.0) = 0.0\n",
      "3.0 + (0.0 * 0.95) * 1.0) = 3.0\n",
      "0.0 + (3.0 * 0.95) * 1.0) = 2.8499999999999996\n",
      "0.0 + (2.8499999999999996 * 0.95) * 1.0) = 2.7074999999999996\n",
      "0.0 + (2.7074999999999996 * 0.95) * 1.0) = 2.5721249999999993\n",
      "0.0 + (2.5721249999999993 * 0.95) * 1.0) = 2.443518749999999\n",
      "0.0 + (2.443518749999999 * 0.95) * -0.0) = 0.0\n",
      "0.0 + (0.0 * 0.95) * 1.0) = 0.0\n",
      "0.0 + (0.0 * 0.95) * 1.0) = 0.0\n",
      "0.0 + (0.0 * 0.95) * 1.0) = 0.0\n",
      "0.0 + (0.0 * 0.95) * 1.0) = 0.0\n",
      "0.0 + (0.0 * 0.95) * 1.0) = 0.0\n"
     ]
    }
   ],
   "source": [
    "def compute_returns(rewards, dones):\n",
    "    \"\"\" Vanilla method of computing discounted returns. Does not use GAE \"\"\"\n",
    "    \n",
    "    GAMMA = .95\n",
    "    R = []\n",
    "    r2 = rewards[-1] # this is ~v(s)\n",
    "    R.append(r2)\n",
    "    idx = 1\n",
    "    for i in reversed(range(0, len(rewards)-1)):\n",
    "        reward = rewards[i]\n",
    "        r1_is_terminal = (dones[i]-1)*-1 # so Dones are zeros\n",
    "        r1 = reward + ((r2 * GAMMA)*r1_is_terminal) # If r1 is terminal, don't add in the discounted returns of next state\n",
    "        print(f\"{reward[idx]} + ({r2[idx]} * {GAMMA}) * {r1_is_terminal[idx]}) = {r1[idx]}\")\n",
    "        R.append(r1)\n",
    "        r2=r1\n",
    "        \n",
    "    R.reverse()\n",
    "    R = np.array(R)\n",
    "    return R\n",
    "\n",
    "# Testing \n",
    "vanilla_returns = compute_returns(rewards, dones)"
   ]
  },
  {
   "cell_type": "code",
   "execution_count": 101,
   "metadata": {},
   "outputs": [
    {
     "data": {
      "text/plain": [
       "Text(0.5, 1.0, 'Vanilla Returns')"
      ]
     },
     "execution_count": 101,
     "metadata": {},
     "output_type": "execute_result"
    },
    {
     "data": {
      "image/png": "[encoded data removed]",
      "text/plain": [
       "<Figure size 640x480 with 1 Axes>"
      ]
     },
     "metadata": {},
     "output_type": "display_data"
    }
   ],
   "source": [
    "# Using simple discounted returns, here's how our rewards translate into returns.\n",
    "\n",
    "plt.plot(range(len(vanilla_returns)), [_[0] for _ in vanilla_returns])\n",
    "plt.title(\"Vanilla Returns\")"
   ]
  },
  {
   "cell_type": "code",
   "execution_count": 104,
   "metadata": {
    "colab": {
     "base_uri": "https://localhost:8080/",
     "height": 34
    },
    "colab_type": "code",
    "id": "oAptYy-fE3tm",
    "outputId": "df19f90b-0a10-4e7f-c44c-164efa7b646d",
    "scrolled": true
   },
   "outputs": [],
   "source": [
    "def compute_returns_gae(rewards, dones, values):\n",
    "    \"\"\" Compute discounted returns w Generalized Advantage Estimation (GAE) \"\"\"\n",
    "    \n",
    "    GAMMA = .999\n",
    "    LAM = .95\n",
    "    lastgaelam = 0\n",
    "    A = [np.zeros(rewards.shape[-1])]\n",
    "    for t in reversed(range(0, len(rewards)-1)):\n",
    "        nextnonterminal = 1.0 - dones[t] # openai baselines records dones in different way. Customized this. Was t+1\n",
    "        nextvalues = values[t+1]\n",
    "        delta = rewards[t] + GAMMA * nextvalues * nextnonterminal - values[t]\n",
    "        lastgaelam = delta * GAMMA * LAM * nextnonterminal * lastgaelam\n",
    "        A.append(lastgaelam)\n",
    "    A.reverse()\n",
    "    A = np.array(A)\n",
    "    R = A + values\n",
    "    return R\n",
    "\n",
    "# Using vanilla returns in place of estimated state values. \n",
    "gae_returns = compute_returns_gae(rewards, dones, vanilla_returns);"
   ]
  },
  {
   "cell_type": "code",
   "execution_count": 105,
   "metadata": {},
   "outputs": [
    {
     "data": {
      "text/plain": [
       "Text(0.5, 1.0, 'GAE Returns')"
      ]
     },
     "execution_count": 105,
     "metadata": {},
     "output_type": "execute_result"
    },
    {
     "data": {
      "image/png": "[encoded data removed]",
      "text/plain": [
       "<Figure size 640x480 with 1 Axes>"
      ]
     },
     "metadata": {},
     "output_type": "display_data"
    }
   ],
   "source": [
    "# Test GAE returns w same rewards as above. The difference btwn vanilla and GAE returns won't always look like this. \n",
    "\n",
    "plt.plot(range(len(gae_returns)), [_[0] for _ in gae_returns])\n",
    "plt.title(\"GAE Returns\")"
   ]
  },
  {
   "cell_type": "markdown",
   "metadata": {},
   "source": [
    "## Gather Trajectories "
   ]
  },
  {
   "cell_type": "code",
   "execution_count": 106,
   "metadata": {
    "colab": {},
    "colab_type": "code",
    "id": "DuEQQS0oE3tn"
   },
   "outputs": [
    {
     "name": "stdout",
     "output_type": "stream",
     "text": [
      "Warning: manual reset ignored\n"
     ]
    },
    {
     "data": {
      "text/plain": [
       "(72, 64, 64, 3)"
      ]
     },
     "execution_count": 106,
     "metadata": {},
     "output_type": "execute_result"
    }
   ],
   "source": [
    "# Initialize w first frames\n",
    "\n",
    "last_frame_ = env.reset()\n",
    "last_frame_.shape #(n_envs, height, width, channels)"
   ]
  },
  {
   "cell_type": "code",
   "execution_count": 109,
   "metadata": {
    "colab": {},
    "colab_type": "code",
    "id": "iN5-48wIE3tq"
   },
   "outputs": [],
   "source": [
    "# Gather trajectories for n_steps. Vecenvs call reset at the end of a game so we can just keep playing and playing...\n",
    "\n",
    "n_steps = 256\n",
    "\n",
    "def gather_trajectories():\n",
    "    with torch.no_grad():\n",
    "        agent.eval()\n",
    "        global last_frame_\n",
    "        frame = last_frame_\n",
    "        frames_, rewards_, dones_, actions_, old_action_probs_, old_state_estimates_, epinfos = [], [], [], [], [], [], []\n",
    "        \n",
    "        for s in range(n_steps):\n",
    "            frames_.append(frame);\n",
    "            action_probs, state_estimate = agent(np_to_pytorch_img(frame).to(device));\n",
    "            action = get_action(action_probs).cpu().numpy();\n",
    "            frame, reward, done, info = env.step(action)\n",
    "            rewards_.append(reward); dones_.append(done); actions_.append(action); old_action_probs_.append(action_probs.detach().cpu().numpy()); old_state_estimates_.append(state_estimate.detach().cpu().numpy())\n",
    "\n",
    "            for i in info:\n",
    "                episode_info = i.get('episode')\n",
    "                if episode_info: epinfos.append(episode_info)\n",
    "\n",
    "        rewards_ = np.array(rewards_); dones_ = np.array(dones_); actions_ = np.array(actions_); frames_ = np.array(frames_); old_state_estimates_ = np.array(old_state_estimates_);\n",
    "        \n",
    "        last_frame_ = frames_[-1] # reset global last frame. Next time we gather trajectories we'll pick up here\n",
    "        \n",
    "        rewards_[-1] = state_estimate.squeeze(-1).cpu().numpy() # Bootstrapped returns\n",
    "\n",
    "        returns_ = compute_returns_gae(rewards_, dones_, old_state_estimates_.squeeze(-1))\n",
    "        \n",
    "        # Reshaping dims and prepping tensor types and locations. Nothing conceptually interesting.\n",
    "        returns_, old_state_estimates_, old_action_probs_, actions_, frames_ = reshaping_processing_acrobatics(returns_, old_state_estimates_, old_action_probs_, actions_, frames_)\n",
    "\n",
    "        return returns_, frames_, actions_, old_action_probs_, old_state_estimates_, epinfos"
   ]
  },
  {
   "cell_type": "code",
   "execution_count": 108,
   "metadata": {
    "colab": {
     "base_uri": "https://localhost:8080/",
     "height": 1000
    },
    "colab_type": "code",
    "id": "VHIoA6EFE3ts",
    "outputId": "43b482fd-123c-435e-97da-44d5840e102e",
    "scrolled": true
   },
   "outputs": [
    {
     "data": {
      "text/plain": [
       "(torch.Size([18432]), torch.Size([18432, 3, 64, 64]), torch.Size([18432]))"
      ]
     },
     "execution_count": 108,
     "metadata": {},
     "output_type": "execute_result"
    }
   ],
   "source": [
    "# Setting global database of rollouts\n",
    "\n",
    "returns, frames, actions, old_action_probs, old_state_estimates, epinfos = gather_trajectories()\n",
    "returns.shape, frames.shape, actions.shape"
   ]
  },
  {
   "cell_type": "code",
   "execution_count": 110,
   "metadata": {
    "colab": {
     "base_uri": "https://localhost:8080/",
     "height": 34
    },
    "colab_type": "code",
    "id": "UKUUSN8KE3tu",
    "outputId": "9b096aab-543a-49ac-8ccb-9c97fb1eddbb"
   },
   "outputs": [
    {
     "data": {
      "text/plain": [
       "1.2440192"
      ]
     },
     "execution_count": 110,
     "metadata": {},
     "output_type": "execute_result"
    }
   ],
   "source": [
    "# Grabbing scores in real-time during training. Procgen has so many random seeds we can\n",
    "# train and test on all of them without worrying about overlap btwn train and validate. \n",
    "\n",
    "get_avg_score(epinfos)"
   ]
  },
  {
   "cell_type": "code",
   "execution_count": 122,
   "metadata": {},
   "outputs": [
    {
     "data": {
      "text/plain": [
       "<matplotlib.legend.Legend at 0x7f5d204c1be0>"
      ]
     },
     "execution_count": 122,
     "metadata": {},
     "output_type": "execute_result"
    },
    {
     "data": {
      "image/png": "[encoded data removed]",
      "text/plain": [
       "<Figure size 2000x500 with 1 Axes>"
      ]
     },
     "metadata": {},
     "output_type": "display_data"
    }
   ],
   "source": [
    "# How good is our critic?\n",
    "\n",
    "plt.figure(figsize=(20,5))\n",
    "plt.plot(range(len(returns[:300])), returns[:300])\n",
    "plt.plot(range(len(old_state_estimates[:300])), old_state_estimates[:300])\n",
    "plt.title(\"Actual Returns vs Estimated Returns\")\n",
    "plt.legend([\"Actual\", \"Estimated\"])"
   ]
  },
  {
   "cell_type": "code",
   "execution_count": 120,
   "metadata": {
    "colab": {
     "base_uri": "https://localhost:8080/",
     "height": 285
    },
    "colab_type": "code",
    "id": "lFlON2VHE3t4",
    "outputId": "adb604d7-db97-47a9-d424-9465549141a5",
    "scrolled": true
   },
   "outputs": [
    {
     "data": {
      "text/plain": [
       "<matplotlib.image.AxesImage at 0x7f5d20548b80>"
      ]
     },
     "execution_count": 120,
     "metadata": {},
     "output_type": "execute_result"
    },
    {
     "data": {
      "image/png": "[encoded data removed]",
      "text/plain": [
       "<Figure size 640x480 with 1 Axes>"
      ]
     },
     "metadata": {},
     "output_type": "display_data"
    }
   ],
   "source": [
    "# Check random imgs from rollouts database, ensure processing didn't mess anything up\n",
    "\n",
    "ix = random.randint(0, len(frames)-1)\n",
    "plt.imshow(pytorch_to_np_img(frames[ix:ix+1]).squeeze(0))"
   ]
  },
  {
   "cell_type": "markdown",
   "metadata": {},
   "source": [
    "## Training\n",
    "\n",
    "When authors say PPO they're ostensibly refering to [the original PPO paper](https://arxiv.org/abs/1707.06347). The trick described in the paper is to prevent the action probabilities generated by your current agent from deviating too far from the the probabilities generated by the agent who actually gathered the data. Paper does this simply by clipping the probabilities to a certain range, usually 20%.\n",
    "\n",
    "But what people REALLY mean when they say PPO is the above trick [combined with half a dozen others](https://arxiv.org/abs/1811.02553)--each one of which is critical to training success. \"PPO\" is better described as \"the basket of tricks used in actual code implementations like OpenAI Baselines\". "
   ]
  },
  {
   "cell_type": "code",
   "execution_count": 123,
   "metadata": {
    "colab": {
     "base_uri": "https://localhost:8080/",
     "height": 101
    },
    "colab_type": "code",
    "id": "cKFsTIUkE3t6",
    "outputId": "31f71a24-caf0-41ef-c14e-d13e8a835e0d",
    "scrolled": true
   },
   "outputs": [
    {
     "data": {
      "text/plain": [
       "(torch.Size([5, 3, 64, 64]),\n",
       " torch.Size([5]),\n",
       " torch.Size([5]),\n",
       " torch.Size([5, 15]),\n",
       " torch.Size([5]))"
      ]
     },
     "execution_count": 123,
     "metadata": {},
     "output_type": "execute_result"
    }
   ],
   "source": [
    "def get_batch(batch_ix):\n",
    "    return frames[batch_ix].to(device), returns[batch_ix].to(device), actions[batch_ix].to(device), old_action_probs[batch_ix].to(device), old_state_estimates[batch_ix].to(device)\n",
    "\n",
    "ix = torch.randperm(len(returns))[:5];\n",
    "frames_batch, returns_batch, actions_batch, old_action_probs_batch, old_state_estimates_batch = get_batch(ix); \n",
    "frames_batch.shape, returns_batch.shape, actions_batch.shape, old_action_probs_batch.shape, old_state_estimates_batch.shape"
   ]
  },
  {
   "cell_type": "code",
   "execution_count": 124,
   "metadata": {
    "colab": {
     "base_uri": "https://localhost:8080/",
     "height": 1000
    },
    "colab_type": "code",
    "id": "IWoAxC19E3t7",
    "outputId": "4d749512-69dd-43bf-d48d-40d5f661a400"
   },
   "outputs": [
    {
     "data": {
      "text/plain": [
       "tensor([[[0.0627, 0.0627, 0.0627,  ..., 0.3098, 0.3098, 0.3098],\n",
       "         [0.0627, 0.0627, 0.0627,  ..., 0.3098, 0.3098, 0.3098],\n",
       "         [0.0627, 0.0627, 0.0627,  ..., 0.3098, 0.3098, 0.3098],\n",
       "         ...,\n",
       "         [0.0627, 0.0627, 0.0627,  ..., 0.1333, 0.1333, 0.0627],\n",
       "         [0.0627, 0.0627, 0.0627,  ..., 0.0627, 0.0627, 0.1333],\n",
       "         [0.0627, 0.0627, 0.0627,  ..., 0.0627, 0.1333, 0.0627]],\n",
       "\n",
       "        [[0.0275, 0.0275, 0.0275,  ..., 0.1686, 0.1686, 0.1686],\n",
       "         [0.0275, 0.0275, 0.0275,  ..., 0.1686, 0.1686, 0.1686],\n",
       "         [0.0275, 0.0275, 0.0275,  ..., 0.1686, 0.1686, 0.1686],\n",
       "         ...,\n",
       "         [0.0275, 0.0275, 0.0275,  ..., 0.0667, 0.0667, 0.0275],\n",
       "         [0.0275, 0.0275, 0.0275,  ..., 0.0275, 0.0275, 0.0667],\n",
       "         [0.0275, 0.0275, 0.0275,  ..., 0.0275, 0.0667, 0.0275]],\n",
       "\n",
       "        [[0.0627, 0.0627, 0.0627,  ..., 0.2157, 0.2157, 0.2157],\n",
       "         [0.0627, 0.0627, 0.0627,  ..., 0.2157, 0.2157, 0.2157],\n",
       "         [0.0627, 0.0627, 0.0627,  ..., 0.2157, 0.2157, 0.2157],\n",
       "         ...,\n",
       "         [0.0627, 0.0627, 0.0627,  ..., 0.1059, 0.1059, 0.0627],\n",
       "         [0.0627, 0.0627, 0.0627,  ..., 0.0627, 0.0627, 0.1059],\n",
       "         [0.0627, 0.0627, 0.0627,  ..., 0.0627, 0.1059, 0.0627]]])"
      ]
     },
     "execution_count": 124,
     "metadata": {},
     "output_type": "execute_result"
    }
   ],
   "source": [
    "# Sample img as the agent will see it. Always check inputs as they are directly before agent ingestion\n",
    "\n",
    "frames_batch[0]"
   ]
  },
  {
   "cell_type": "code",
   "execution_count": 125,
   "metadata": {
    "colab": {},
    "colab_type": "code",
    "id": "pc-mqbqBE3t9"
   },
   "outputs": [],
   "source": [
    "def calculate_action_gain_ppo(action_probs, old_action_probs, actions_taken, advantages, verbose=False):\n",
    "    \"\"\" Actions resulting in positive advantage made more probable, and vice versa. Do not allow to differ from old\n",
    "    probs by too much. Log probs are from current agent. Actions_taken are from OLD version of agent. \"\"\"\n",
    "    \n",
    "    a = actions_taken.unsqueeze(-1).to(device)\n",
    "    if verbose: print(\"\\n\\nactions unsqueezed\\n\", a)\n",
    "        \n",
    "    chosen_action_probs = action_probs.gather(1, a)\n",
    "    chosen_action_probs = chosen_action_probs.squeeze(-1)\n",
    "    \n",
    "    old_chosen_action_probs = old_action_probs.gather(1, a)\n",
    "    old_chosen_action_probs = old_chosen_action_probs.squeeze(-1)\n",
    "    if verbose: print(\"\\n\\nchosen action probs, new and old\\n\", chosen_action_probs,'\\n', old_chosen_action_probs, '\\n\\nadvantages values', advantages)\n",
    "    \n",
    "    ratio = torch.exp(chosen_action_probs - old_chosen_action_probs)\n",
    "    if verbose: print('\\n\\nratio', ratio)\n",
    "    \n",
    "    unclipped_action_gain = ratio * advantages\n",
    "    clipped_action_gain = torch.clamp(ratio, .8, 1.2) * advantages\n",
    "    if verbose: print('\\n\\nunclipped and clipped action gains\\n', unclipped_action_gain, '\\n', clipped_action_gain)\n",
    "    \n",
    "    action_gain = torch.min(unclipped_action_gain, clipped_action_gain)\n",
    "    if verbose: print('\\n\\n conservative lower bound action gain\\n', action_gain)\n",
    "        \n",
    "    action_gain = action_gain.mean()\n",
    "    if verbose: print('\\n\\nmean', action_gain)\n",
    "        \n",
    "    return action_gain # single scalar"
   ]
  },
  {
   "cell_type": "code",
   "execution_count": 126,
   "metadata": {
    "colab": {
     "base_uri": "https://localhost:8080/",
     "height": 269
    },
    "colab_type": "code",
    "id": "5SRUBH-1E3t_",
    "outputId": "732847f6-6d70-485a-be97-1ddeba2dd5d8",
    "scrolled": true
   },
   "outputs": [
    {
     "data": {
      "text/plain": [
       "torch.Size([5, 15])"
      ]
     },
     "execution_count": 126,
     "metadata": {},
     "output_type": "execute_result"
    }
   ],
   "source": [
    "with torch.no_grad():\n",
    "    action_probs, state_estimates = agent(frames_batch); \n",
    "\n",
    "action_probs.shape # (bs, n_actions)"
   ]
  },
  {
   "cell_type": "code",
   "execution_count": 127,
   "metadata": {
    "colab": {
     "base_uri": "https://localhost:8080/",
     "height": 622
    },
    "colab_type": "code",
    "id": "kGTq_QsRE3uF",
    "outputId": "c9c73a93-13d5-4682-cf93-06b1696d1c23",
    "scrolled": true
   },
   "outputs": [
    {
     "data": {
      "text/plain": [
       "tensor(3.4754)"
      ]
     },
     "execution_count": 127,
     "metadata": {},
     "output_type": "execute_result"
    }
   ],
   "source": [
    "# Test action gain calculations. Verbose true to inspect actual values.\n",
    "\n",
    "calculate_action_gain_ppo(action_probs, old_action_probs_batch, actions_batch, returns_batch, verbose=False)"
   ]
  },
  {
   "cell_type": "code",
   "execution_count": 128,
   "metadata": {
    "colab": {
     "base_uri": "https://localhost:8080/",
     "height": 319
    },
    "colab_type": "code",
    "id": "hmZBSqWQE3uG",
    "outputId": "5cd247fb-2e5a-472d-9c67-bbcaa17c1dd3"
   },
   "outputs": [
    {
     "data": {
      "text/plain": [
       "tensor(28.3634)"
      ]
     },
     "execution_count": 128,
     "metadata": {},
     "output_type": "execute_result"
    }
   ],
   "source": [
    "def get_critic_loss(old_state_estimates_b, state_estimates, returns_b, verbose=False):\n",
    "    \"\"\" How good is critic at estimating state? Don't allow to differ too much from old state estimates \"\"\"\n",
    "    \n",
    "    state_estimates = state_estimates.squeeze(-1)\n",
    "    clipped_state_estimate = old_state_estimates_b + torch.clamp(state_estimates - old_state_estimates_b, -.2, .2)\n",
    "    if verbose: print(\"\\nstate estimates, new and old\\n\\n\", state_estimates, '\\n', old_state_estimates_b, '\\n\\nreturns', returns_b)\n",
    "    critic_loss_1 = ((returns_b - clipped_state_estimate)**2)\n",
    "    critic_loss_2 = ((returns_b - state_estimates)**2)\n",
    "    critic_loss = torch.max(critic_loss_1, critic_loss_2)\n",
    "    if verbose: print('\\nCritic Losses: clipped, unclipped, conservative:\\n', critic_loss_1, '\\n', critic_loss_2, '\\n', critic_loss)\n",
    "    critic_loss = critic_loss.mean() * .5\n",
    "    return critic_loss # single scalar\n",
    "\n",
    "get_critic_loss(old_state_estimates_batch, state_estimates, returns_batch, False) # verbose true to inspect actual values"
   ]
  },
  {
   "cell_type": "code",
   "execution_count": 129,
   "metadata": {
    "colab": {},
    "colab_type": "code",
    "id": "Vj55j_gJE3uK"
   },
   "outputs": [],
   "source": [
    "def get_entropy_bonus(action_probs):\n",
    "    \"\"\" Encourage humility \"\"\"\n",
    "    e = -(action_probs.exp() * (action_probs+1e-8))\n",
    "    e = e.sum(dim=1)\n",
    "    e = e.mean()\n",
    "    return e"
   ]
  },
  {
   "cell_type": "code",
   "execution_count": 130,
   "metadata": {
    "colab": {},
    "colab_type": "code",
    "id": "D1hg_OAgE3uM"
   },
   "outputs": [
    {
     "data": {
      "text/plain": [
       "(tensor(2.7081), tensor(2.7081))"
      ]
     },
     "execution_count": 130,
     "metadata": {},
     "output_type": "execute_result"
    }
   ],
   "source": [
    "# Pytorch distributions have entropy calc directly out of the box. Check against that.\n",
    "\n",
    "get_entropy_bonus(action_probs), categorical(action_probs.exp()).entropy().mean()"
   ]
  },
  {
   "cell_type": "code",
   "execution_count": 132,
   "metadata": {
    "colab": {},
    "colab_type": "code",
    "id": "pQF4Zv9aE3uS"
   },
   "outputs": [],
   "source": [
    "def run_batch(batch_ix, verbose=False):\n",
    "    \"\"\" \n",
    "    Run a single batch of data. Takes in indices, uses them to pull from global database of rollouts,\n",
    "    calculates and returns losses. No gradient steps here. \n",
    "    \"\"\"\n",
    "    \n",
    "    frames_b, returns_b, actions_taken_b, old_action_probs_b, old_state_estimates_b = get_batch(batch_ix)\n",
    "\n",
    "    action_probs, state_estimates = agent(frames_b)\n",
    "    \n",
    "    entropy_bonus = get_entropy_bonus(action_probs)\n",
    "    \n",
    "    critic_loss = get_critic_loss(old_state_estimates_b, state_estimates, returns_b, verbose=verbose)\n",
    "    \n",
    "    with torch.no_grad():\n",
    "        advantages = (returns_b - state_estimates.squeeze(-1).detach()) # don't want to propogate gradients through this\n",
    "        advantages -= advantages.mean()\n",
    "        advantages /= (advantages.std() + 1e-8)\n",
    "    \n",
    "    action_gain = calculate_action_gain_ppo(action_probs, old_action_probs_b, actions_taken_b, advantages, verbose=verbose)\n",
    "    \n",
    "    return entropy_bonus, action_gain, critic_loss"
   ]
  },
  {
   "cell_type": "code",
   "execution_count": 133,
   "metadata": {
    "colab": {},
    "colab_type": "code",
    "id": "YkB-25LbE3uT",
    "scrolled": true
   },
   "outputs": [],
   "source": [
    "# Manually run a batch\n",
    "\n",
    "with torch.no_grad():\n",
    "    run_batch(ix, False)"
   ]
  },
  {
   "cell_type": "code",
   "execution_count": 134,
   "metadata": {
    "colab": {
     "base_uri": "https://localhost:8080/",
     "height": 34
    },
    "colab_type": "code",
    "id": "twyvUxMJE3uZ",
    "outputId": "cabb5d93-4cdf-4e39-b51a-21cf9e4ad0e4"
   },
   "outputs": [
    {
     "data": {
      "text/plain": [
       "(18432, 542, 2304)"
      ]
     },
     "execution_count": 134,
     "metadata": {},
     "output_type": "execute_result"
    }
   ],
   "source": [
    "# Hyperparameters all taken from procgen paper\n",
    "\n",
    "lr = 5e-4 # High lr bc batch size is big as well.\n",
    "opt = torch.optim.Adam(agent.parameters(), lr=lr, eps=1e-5)\n",
    "n_obs_per_round = n_envs * n_steps; \n",
    "target_n_obs = 10_000_000 # This is for 'easy' mode. 'Hard' requires 10x more. This is < half what procgen paper does, but is already enough to begin to converge. \n",
    "n_minibatches = 8\n",
    "bs = n_obs_per_round // n_minibatches\n",
    "n_rounds = target_n_obs // n_obs_per_round\n",
    "\n",
    "# procgen paper avgs gradients across 4 workers for training in 'hard' setting. This is same as making bs 4 times bigger. \n",
    "# For the same effect on a single GPU, use gradient accumulation to mimic larger batch size. medium.com/huggingface/training-larger-batches-practical-tips-on-1-gpu-multi-gpu-distributed-setups-ec88c3e51255\n",
    "accumulation_steps = 1 \n",
    "\n",
    "entropy_coef = .01\n",
    "value_loss_coef = .5\n",
    "n_opt_epochs = 3 # how many times does agent 'see' an observation before we discard it?\n",
    "\n",
    "n_obs_per_round, n_rounds, bs"
   ]
  },
  {
   "cell_type": "code",
   "execution_count": 136,
   "metadata": {
    "colab": {
     "base_uri": "https://localhost:8080/",
     "height": 34
    },
    "colab_type": "code",
    "id": "KrnnZfk4E3ub",
    "outputId": "1f397217-a477-49bf-90d5-3549c01792c4",
    "scrolled": true
   },
   "outputs": [
    {
     "name": "stdout",
     "output_type": "stream",
     "text": [
      "\n",
      "state estimates, new and old\n",
      "\n",
      " tensor([-0.3599, -0.5154, -0.4203,  ...,  0.0163, -0.4633, -0.0690],\n",
      "       grad_fn=<SqueezeBackward1>) \n",
      " tensor([0.0567, 0.0616, 0.0687,  ..., 0.0577, 0.0513, 0.0534]) \n",
      "\n",
      "returns tensor([0.0618, 0.0618, 0.0615,  ..., 0.0532, 0.0534, 0.0534])\n",
      "\n",
      "Critic Losses: clipped, unclipped, conservative:\n",
      " tensor([0.0421, 0.0401, 0.0372,  ..., 0.0014, 0.0408, 0.0150],\n",
      "       grad_fn=<PowBackward0>) \n",
      " tensor([0.1778, 0.3332, 0.2322,  ..., 0.0014, 0.2669, 0.0150],\n",
      "       grad_fn=<PowBackward0>) \n",
      " tensor([0.1778, 0.3332, 0.2322,  ..., 0.0014, 0.2669, 0.0150],\n",
      "       grad_fn=<MaximumBackward0>)\n",
      "\n",
      "\n",
      "actions unsqueezed\n",
      " tensor([[ 9],\n",
      "        [12],\n",
      "        [11],\n",
      "        ...,\n",
      "        [13],\n",
      "        [ 0],\n",
      "        [14]])\n",
      "\n",
      "\n",
      "chosen action probs, new and old\n",
      " tensor([-2.7474, -2.7328, -2.7546,  ..., -2.7761, -2.6798, -2.6539],\n",
      "       grad_fn=<SqueezeBackward1>) \n",
      " tensor([-2.7082, -2.7078, -2.7081,  ..., -2.7078, -2.7084, -2.7077]) \n",
      "\n",
      "advantages values tensor([-0.3372, -0.2220, -0.2926,  ..., -0.6218, -0.2669, -0.5585])\n",
      "\n",
      "\n",
      "ratio tensor([0.9616, 0.9753, 0.9546,  ..., 0.9340, 1.0291, 1.0553],\n",
      "       grad_fn=<ExpBackward0>)\n",
      "\n",
      "\n",
      "unclipped and clipped action gains\n",
      " tensor([-0.3242, -0.2165, -0.2793,  ..., -0.5807, -0.2746, -0.5894],\n",
      "       grad_fn=<MulBackward0>) \n",
      " tensor([-0.3242, -0.2165, -0.2793,  ..., -0.5807, -0.2746, -0.5894],\n",
      "       grad_fn=<MulBackward0>)\n",
      "\n",
      "\n",
      " conservative lower bound action gain\n",
      " tensor([-0.3242, -0.2165, -0.2793,  ..., -0.5807, -0.2746, -0.5894],\n",
      "       grad_fn=<MinimumBackward0>)\n",
      "\n",
      "\n",
      "mean tensor(0.0027, grad_fn=<MeanBackward0>)\n",
      "\n",
      "\n",
      "entropy bonus, action gain\n",
      ", critic loss\n",
      " 0.027064980939030647 0.0027281136717647314 0.70884770154953\n",
      "\n",
      "state estimates, new and old\n",
      "\n",
      " tensor([1.4176, 1.6411, 1.6989,  ..., 0.9425, 0.9757, 1.0480],\n",
      "       grad_fn=<SqueezeBackward1>) \n",
      " tensor([0.0606, 0.0584, 0.0564,  ..., 0.0803, 0.0782, 0.0776]) \n",
      "\n",
      "returns tensor([0.0592, 0.0593, 0.0596,  ..., 0.0775, 0.0776, 0.0776])\n",
      "\n",
      "Critic Losses: clipped, unclipped, conservative:\n",
      " tensor([0.0405, 0.0396, 0.0388,  ..., 0.0411, 0.0403, 0.0400],\n",
      "       grad_fn=<PowBackward0>) \n",
      " tensor([1.8453, 2.5018, 2.6873,  ..., 0.7483, 0.8066, 0.9417],\n",
      "       grad_fn=<PowBackward0>) \n",
      " tensor([1.8453, 2.5018, 2.6873,  ..., 0.7483, 0.8066, 0.9417],\n",
      "       grad_fn=<MaximumBackward0>)\n",
      "\n",
      "\n",
      "actions unsqueezed\n",
      " tensor([[ 3],\n",
      "        [ 0],\n",
      "        [10],\n",
      "        ...,\n",
      "        [ 8],\n",
      "        [14],\n",
      "        [ 8]])\n",
      "\n",
      "\n",
      "chosen action probs, new and old\n",
      " tensor([-2.7664, -2.6691, -2.6361,  ..., -2.6857, -2.6565, -2.6814],\n",
      "       grad_fn=<SqueezeBackward1>) \n",
      " tensor([-2.7078, -2.7081, -2.7073,  ..., -2.7081, -2.7075, -2.7082]) \n",
      "\n",
      "advantages values tensor([-0.4685, -0.7344, -0.8030,  ...,  0.1190,  0.0796, -0.0065])\n",
      "\n",
      "\n",
      "ratio tensor([0.9431, 1.0398, 1.0738,  ..., 1.0226, 1.0523, 1.0271],\n",
      "       grad_fn=<ExpBackward0>)\n",
      "\n",
      "\n",
      "unclipped and clipped action gains\n",
      " tensor([-0.4419, -0.7637, -0.8623,  ...,  0.1217,  0.0838, -0.0066],\n",
      "       grad_fn=<MulBackward0>) \n",
      " tensor([-0.4419, -0.7637, -0.8623,  ...,  0.1217,  0.0838, -0.0066],\n",
      "       grad_fn=<MulBackward0>)\n",
      "\n",
      "\n",
      " conservative lower bound action gain\n",
      " tensor([-0.4419, -0.7637, -0.8623,  ...,  0.1217,  0.0838, -0.0066],\n",
      "       grad_fn=<MinimumBackward0>)\n",
      "\n",
      "\n",
      "mean tensor(0.0010, grad_fn=<MeanBackward0>)\n",
      "\n",
      "\n",
      "entropy bonus, action gain\n",
      ", critic loss\n",
      " 0.027059480547904968 0.001022731652483344 0.46229901909828186\n",
      "\n",
      "state estimates, new and old\n",
      "\n",
      " tensor([1.2060, 1.1671, 1.1090,  ..., 1.5244, 1.5292, 1.6212],\n",
      "       grad_fn=<SqueezeBackward1>) \n",
      " tensor([0.0601, 0.0619, 0.0675,  ..., 0.0516, 0.0514, 0.0522]) \n",
      "\n",
      "returns tensor([0.0620, 0.0620, 0.0618,  ..., 0.0520, 0.0521, 0.0522])\n",
      "\n",
      "Critic Losses: clipped, unclipped, conservative:\n",
      " tensor([0.0393, 0.0400, 0.0423,  ..., 0.0398, 0.0397, 0.0400],\n",
      "       grad_fn=<PowBackward0>) \n",
      " tensor([1.3088, 1.2213, 1.0965,  ..., 2.1680, 2.1818, 2.4617],\n",
      "       grad_fn=<PowBackward0>) \n",
      " tensor([1.3088, 1.2213, 1.0965,  ..., 2.1680, 2.1818, 2.4617],\n",
      "       grad_fn=<MaximumBackward0>)\n",
      "\n",
      "\n",
      "actions unsqueezed\n",
      " tensor([[11],\n",
      "        [ 8],\n",
      "        [13],\n",
      "        ...,\n",
      "        [ 8],\n",
      "        [ 7],\n",
      "        [14]])\n",
      "\n",
      "\n",
      "chosen action probs, new and old\n",
      " tensor([-2.7285, -2.6707, -2.7747,  ..., -2.6382, -2.7725, -2.6433],\n",
      "       grad_fn=<SqueezeBackward1>) \n",
      " tensor([-2.7082, -2.7082, -2.7080,  ..., -2.7082, -2.7085, -2.7076]) \n",
      "\n",
      "advantages values tensor([ 0.1076,  0.1733,  0.2712,  ..., -0.4469, -0.4548, -0.6099])\n",
      "\n",
      "\n",
      "ratio tensor([0.9799, 1.0382, 0.9355,  ..., 1.0725, 0.9381, 1.0664],\n",
      "       grad_fn=<ExpBackward0>)\n",
      "\n",
      "\n",
      "unclipped and clipped action gains\n",
      " tensor([ 0.1055,  0.1799,  0.2537,  ..., -0.4793, -0.4266, -0.6504],\n",
      "       grad_fn=<MulBackward0>) \n",
      " tensor([ 0.1055,  0.1799,  0.2537,  ..., -0.4793, -0.4266, -0.6504],\n",
      "       grad_fn=<MulBackward0>)\n",
      "\n",
      "\n",
      " conservative lower bound action gain\n",
      " tensor([ 0.1055,  0.1799,  0.2537,  ..., -0.4793, -0.4266, -0.6504],\n",
      "       grad_fn=<MinimumBackward0>)\n",
      "\n",
      "\n",
      "mean tensor(0.0023, grad_fn=<MeanBackward0>)\n",
      "\n",
      "\n",
      "entropy bonus, action gain\n",
      ", critic loss\n",
      " 0.027056073769927025 0.0022702040150761604 0.48602744936943054\n",
      "\n",
      "state estimates, new and old\n",
      "\n",
      " tensor([0.8325, 0.9203, 1.0522,  ..., 1.0695, 0.8723, 0.7150],\n",
      "       grad_fn=<SqueezeBackward1>) \n",
      " tensor([0.0623, 0.0679, 0.0686,  ..., 0.0529, 0.0552, 0.0577]) \n",
      "\n",
      "returns tensor([0.0892, 0.0904, 0.0916,  ..., 0.0575, 0.0577, 0.0577])\n",
      "\n",
      "Critic Losses: clipped, unclipped, conservative:\n",
      " tensor([0.0300, 0.0315, 0.0313,  ..., 0.0382, 0.0390, 0.0400],\n",
      "       grad_fn=<PowBackward0>) \n",
      " tensor([0.5526, 0.6887, 0.9228,  ..., 1.0241, 0.6637, 0.4320],\n",
      "       grad_fn=<PowBackward0>) \n",
      " tensor([0.5526, 0.6887, 0.9228,  ..., 1.0241, 0.6637, 0.4320],\n",
      "       grad_fn=<MaximumBackward0>)\n",
      "\n",
      "\n",
      "actions unsqueezed\n",
      " tensor([[ 8],\n",
      "        [ 5],\n",
      "        [ 4],\n",
      "        ...,\n",
      "        [ 8],\n",
      "        [10],\n",
      "        [ 0]])\n",
      "\n",
      "\n",
      "chosen action probs, new and old\n",
      " tensor([-2.6605, -2.6942, -2.6559,  ..., -2.6547, -2.5986, -2.6834],\n",
      "       grad_fn=<SqueezeBackward1>) \n",
      " tensor([-2.7081, -2.7082, -2.7082,  ..., -2.7082, -2.7073, -2.7084]) \n",
      "\n",
      "advantages values tensor([-0.1828, -0.2482, -0.3470,  ..., -0.3858, -0.2367, -0.1178])\n",
      "\n",
      "\n",
      "ratio tensor([1.0488, 1.0140, 1.0537,  ..., 1.0550, 1.1149, 1.0253],\n",
      "       grad_fn=<ExpBackward0>)\n",
      "\n",
      "\n",
      "unclipped and clipped action gains\n",
      " tensor([-0.1918, -0.2517, -0.3656,  ..., -0.4070, -0.2639, -0.1208],\n",
      "       grad_fn=<MulBackward0>) \n",
      " tensor([-0.1918, -0.2517, -0.3656,  ..., -0.4070, -0.2639, -0.1208],\n",
      "       grad_fn=<MulBackward0>)\n",
      "\n",
      "\n",
      " conservative lower bound action gain\n",
      " tensor([-0.1918, -0.2517, -0.3656,  ..., -0.4070, -0.2639, -0.1208],\n",
      "       grad_fn=<MinimumBackward0>)\n",
      "\n",
      "\n",
      "mean tensor(0.0007, grad_fn=<MeanBackward0>)\n",
      "\n",
      "\n",
      "entropy bonus, action gain\n",
      ", critic loss\n",
      " 0.027055485174059868 0.0006976292934268713 0.6780506372451782\n",
      "\n",
      "state estimates, new and old\n",
      "\n",
      " tensor([0.5197, 0.5961, 0.6090,  ..., 0.6223, 0.6580, 0.6449],\n",
      "       grad_fn=<SqueezeBackward1>) \n",
      " tensor([0.0692, 0.0750, 0.0643,  ..., 0.0557, 0.0479, 0.0416]) \n",
      "\n",
      "returns tensor([4.2830, 4.5090, 4.7477,  ..., 1.0462, 1.0999, 0.0416])\n",
      "\n",
      "Critic Losses: clipped, unclipped, conservative:\n",
      " tensor([16.1112, 17.9269, 20.1007,  ...,  0.6249,  0.7259,  0.0400],\n",
      "       grad_fn=<PowBackward0>) \n",
      " tensor([14.1627, 15.3108, 17.1287,  ...,  0.1797,  0.1952,  0.3640],\n",
      "       grad_fn=<PowBackward0>) \n",
      " tensor([16.1112, 17.9269, 20.1007,  ...,  0.6249,  0.7259,  0.3640],\n",
      "       grad_fn=<MaximumBackward0>)\n",
      "\n",
      "\n",
      "actions unsqueezed\n",
      " tensor([[12],\n",
      "        [14],\n",
      "        [ 0],\n",
      "        ...,\n",
      "        [11],\n",
      "        [ 7],\n",
      "        [ 7]])\n",
      "\n",
      "\n",
      "chosen action probs, new and old\n",
      " tensor([-2.7297, -2.6363, -2.6742,  ..., -2.7078, -2.7710, -2.7700],\n",
      "       grad_fn=<SqueezeBackward1>) \n",
      " tensor([-2.7081, -2.7076, -2.7084,  ..., -2.7080, -2.7087, -2.7086]) \n",
      "\n",
      "advantages values tensor([ 3.1195,  3.2415,  3.4256,  ...,  0.3965,  0.4112, -0.4411])\n",
      "\n",
      "\n",
      "ratio tensor([0.9785, 1.0739, 1.0348,  ..., 1.0001, 0.9395, 0.9405],\n",
      "       grad_fn=<ExpBackward0>)\n",
      "\n",
      "\n",
      "unclipped and clipped action gains\n",
      " tensor([ 3.0526,  3.4811,  3.5449,  ...,  0.3966,  0.3863, -0.4148],\n",
      "       grad_fn=<MulBackward0>) \n",
      " tensor([ 3.0526,  3.4811,  3.5449,  ...,  0.3966,  0.3863, -0.4148],\n",
      "       grad_fn=<MulBackward0>)\n",
      "\n",
      "\n",
      " conservative lower bound action gain\n",
      " tensor([ 3.0526,  3.4811,  3.5449,  ...,  0.3966,  0.3863, -0.4148],\n",
      "       grad_fn=<MinimumBackward0>)\n",
      "\n",
      "\n",
      "mean tensor(-0.0017, grad_fn=<MeanBackward0>)\n",
      "\n",
      "\n",
      "entropy bonus, action gain\n",
      ", critic loss\n",
      " 0.027056865394115448 -0.001687348703853786 0.4434448182582855\n",
      "\n",
      "state estimates, new and old\n",
      "\n",
      " tensor([ 0.1435,  0.1879,  0.1950,  ..., -0.0491,  0.1837, -0.0689],\n",
      "       grad_fn=<SqueezeBackward1>) \n",
      " tensor([0.0693, 0.0679, 0.0657,  ..., 0.0625, 0.0619, 0.0690]) \n",
      "\n",
      "returns tensor([0.0504, 0.0495, 0.0487,  ..., 0.0685, 0.0689, 0.0690])\n",
      "\n",
      "Critic Losses: clipped, unclipped, conservative:\n",
      " tensor([0.0087, 0.0191, 0.0214,  ..., 0.0138, 0.0132, 0.0190],\n",
      "       grad_fn=<PowBackward0>) \n",
      " tensor([0.0087, 0.0191, 0.0214,  ..., 0.0138, 0.0132, 0.0190],\n",
      "       grad_fn=<PowBackward0>) \n",
      " tensor([0.0087, 0.0191, 0.0214,  ..., 0.0138, 0.0132, 0.0190],\n",
      "       grad_fn=<MaximumBackward0>)\n",
      "\n",
      "\n",
      "actions unsqueezed\n",
      " tensor([[ 3],\n",
      "        [ 4],\n",
      "        [13],\n",
      "        ...,\n",
      "        [ 8],\n",
      "        [ 5],\n",
      "        [14]])\n",
      "\n",
      "\n",
      "chosen action probs, new and old\n",
      " tensor([-2.7637, -2.6645, -2.7670,  ..., -2.6554, -2.7191, -2.6509],\n",
      "       grad_fn=<SqueezeBackward1>) \n",
      " tensor([-2.7079, -2.7083, -2.7080,  ..., -2.7082, -2.7081, -2.7075]) \n",
      "\n",
      "advantages values tensor([-0.3817, -0.4132, -0.4187,  ..., -0.2351, -0.3967, -0.2209])\n",
      "\n",
      "\n",
      "ratio tensor([0.9457, 1.0448, 0.9427,  ..., 1.0543, 0.9890, 1.0583],\n",
      "       grad_fn=<ExpBackward0>)\n",
      "\n",
      "\n",
      "unclipped and clipped action gains\n",
      " tensor([-0.3610, -0.4317, -0.3947,  ..., -0.2478, -0.3924, -0.2338],\n",
      "       grad_fn=<MulBackward0>) \n",
      " tensor([-0.3610, -0.4317, -0.3947,  ..., -0.2478, -0.3924, -0.2338],\n",
      "       grad_fn=<MulBackward0>)\n",
      "\n",
      "\n",
      " conservative lower bound action gain\n",
      " tensor([-0.3610, -0.4317, -0.3947,  ..., -0.2478, -0.3924, -0.2338],\n",
      "       grad_fn=<MinimumBackward0>)\n",
      "\n",
      "\n",
      "mean tensor(0.0011, grad_fn=<MeanBackward0>)\n",
      "\n",
      "\n",
      "entropy bonus, action gain\n",
      ", critic loss\n",
      " 0.02706112340092659 0.0010581968817859888 0.5704301595687866\n",
      "\n",
      "state estimates, new and old\n",
      "\n",
      " tensor([-0.0314, -0.0313, -0.0263,  ..., -0.2718, -0.2338, -0.3202],\n",
      "       grad_fn=<SqueezeBackward1>) \n",
      " tensor([0.0560, 0.0573, 0.0572,  ..., 0.0846, 0.0807, 0.0768]) \n",
      "\n",
      "returns tensor([0.3968, 0.4151, 0.4344,  ..., 0.0768, 0.0767, 0.0768])\n",
      "\n",
      "Critic Losses: clipped, unclipped, conservative:\n",
      " tensor([0.1834, 0.1993, 0.2122,  ..., 0.0370, 0.0384, 0.0400],\n",
      "       grad_fn=<PowBackward0>) \n",
      " tensor([0.1834, 0.1993, 0.2122,  ..., 0.1216, 0.0964, 0.1576],\n",
      "       grad_fn=<PowBackward0>) \n",
      " tensor([0.1834, 0.1993, 0.2122,  ..., 0.1216, 0.0964, 0.1576],\n",
      "       grad_fn=<MaximumBackward0>)\n",
      "\n",
      "\n",
      "actions unsqueezed\n",
      " tensor([[12],\n",
      "        [ 9],\n",
      "        [13],\n",
      "        ...,\n",
      "        [ 1],\n",
      "        [11],\n",
      "        [10]])\n",
      "\n",
      "\n",
      "chosen action probs, new and old\n",
      " tensor([-2.7280, -2.7524, -2.7602,  ..., -2.7530, -2.6813, -2.6053],\n",
      "       grad_fn=<SqueezeBackward1>) \n",
      " tensor([-2.7082, -2.7082, -2.7080,  ..., -2.7082, -2.7081, -2.7058]) \n",
      "\n",
      "advantages values tensor([-0.2313, -0.2181, -0.2078,  ..., -0.2890, -0.3167, -0.2540])\n",
      "\n",
      "\n",
      "ratio tensor([0.9804, 0.9568, 0.9491,  ..., 0.9562, 1.0271, 1.1057],\n",
      "       grad_fn=<ExpBackward0>)\n",
      "\n",
      "\n",
      "unclipped and clipped action gains\n",
      " tensor([-0.2268, -0.2087, -0.1972,  ..., -0.2764, -0.3253, -0.2808],\n",
      "       grad_fn=<MulBackward0>) \n",
      " tensor([-0.2268, -0.2087, -0.1972,  ..., -0.2764, -0.3253, -0.2808],\n",
      "       grad_fn=<MulBackward0>)\n",
      "\n",
      "\n",
      " conservative lower bound action gain\n",
      " tensor([-0.2268, -0.2087, -0.1972,  ..., -0.2764, -0.3253, -0.2808],\n",
      "       grad_fn=<MinimumBackward0>)\n",
      "\n",
      "\n",
      "mean tensor(0.0012, grad_fn=<MeanBackward0>)\n",
      "\n",
      "\n",
      "entropy bonus, action gain\n",
      ", critic loss\n",
      " 0.02706129662692547 0.0011692843399941921 0.6151675581932068\n",
      "\n",
      "state estimates, new and old\n",
      "\n",
      " tensor([-0.0341, -0.0295, -0.0180,  ..., -0.1082, -0.1131, -0.1662],\n",
      "       grad_fn=<SqueezeBackward1>) \n",
      " tensor([0.0513, 0.0480, 0.0560,  ..., 0.0726, 0.0641, 0.0646]) \n",
      "\n",
      "returns tensor([0.0499, 0.0500, 0.0498,  ..., 0.0644, 0.0645, 0.0646])\n",
      "\n",
      "Critic Losses: clipped, unclipped, conservative:\n",
      " tensor([0.0071, 0.0063, 0.0046,  ..., 0.0298, 0.0316, 0.0400],\n",
      "       grad_fn=<PowBackward0>) \n",
      " tensor([0.0071, 0.0063, 0.0046,  ..., 0.0298, 0.0316, 0.0533],\n",
      "       grad_fn=<PowBackward0>) \n",
      " tensor([0.0071, 0.0063, 0.0046,  ..., 0.0298, 0.0316, 0.0533],\n",
      "       grad_fn=<MaximumBackward0>)\n",
      "\n",
      "\n",
      "actions unsqueezed\n",
      " tensor([[ 7],\n",
      "        [ 2],\n",
      "        [10],\n",
      "        ...,\n",
      "        [ 1],\n",
      "        [12],\n",
      "        [ 0]])\n",
      "\n",
      "\n",
      "chosen action probs, new and old\n",
      " tensor([-2.7704, -2.6437, -2.6174,  ..., -2.7456, -2.7414, -2.7236],\n",
      "       grad_fn=<SqueezeBackward1>) \n",
      " tensor([-2.7085, -2.7078, -2.7073,  ..., -2.7084, -2.7079, -2.7085]) \n",
      "\n",
      "advantages values tensor([-0.4249, -0.4331, -0.4546,  ..., -0.2630, -0.2539, -0.1568])\n",
      "\n",
      "\n",
      "ratio tensor([0.9399, 1.0662, 1.0941,  ..., 0.9635, 0.9670, 0.9850],\n",
      "       grad_fn=<ExpBackward0>)\n",
      "\n",
      "\n",
      "unclipped and clipped action gains\n",
      " tensor([-0.3994, -0.4618, -0.4973,  ..., -0.2534, -0.2455, -0.1544],\n",
      "       grad_fn=<MulBackward0>) \n",
      " tensor([-0.3994, -0.4618, -0.4973,  ..., -0.2534, -0.2455, -0.1544],\n",
      "       grad_fn=<MulBackward0>)\n",
      "\n",
      "\n",
      " conservative lower bound action gain\n",
      " tensor([-0.3994, -0.4618, -0.4973,  ..., -0.2534, -0.2455, -0.1544],\n",
      "       grad_fn=<MinimumBackward0>)\n",
      "\n",
      "\n",
      "mean tensor(-0.0002, grad_fn=<MeanBackward0>)\n",
      "\n",
      "\n",
      "entropy bonus, action gain\n",
      ", critic loss\n",
      " 0.02706153132021427 -0.00017200793081428856 0.10015986859798431\n"
     ]
    },
    {
     "data": {
      "text/plain": [
       "0.48010795563459396"
      ]
     },
     "execution_count": 136,
     "metadata": {},
     "output_type": "execute_result"
    }
   ],
   "source": [
    "def reflect(verbose=False):\n",
    "    \"\"\" Learn from current database of rollouts for a single epoch \"\"\"\n",
    "    \n",
    "    agent.train()\n",
    "    epoch_losses = []\n",
    "    ix_range = range(len(returns))\n",
    "    ix = 0\n",
    "    grad_accum_counter = 1\n",
    "    while ix < len(returns):\n",
    "        batch_ix = ix_range[ix:ix+bs]; ix += bs\n",
    "        entropy_bonus, action_gain, critic_loss = run_batch(batch_ix, verbose=verbose)\n",
    "        entropy_bonus *= entropy_coef\n",
    "        critic_loss *= value_loss_coef\n",
    "        if verbose: print(\"\\n\\nentropy bonus, action gain\\n, critic loss\\n\", entropy_bonus.item(), action_gain.item(), critic_loss.item())\n",
    "        total_loss = critic_loss - entropy_bonus - action_gain\n",
    "        total_loss /= accumulation_steps\n",
    "        total_loss.backward()\n",
    "                \n",
    "        if grad_accum_counter % accumulation_steps == 0:\n",
    "            nn.utils.clip_grad_norm_(agent.parameters(), .5);\n",
    "            opt.step()\n",
    "            opt.zero_grad()\n",
    "        grad_accum_counter+=1\n",
    "        epoch_losses.append(total_loss.item())\n",
    "\n",
    "    return np.array(epoch_losses).mean(); # epoch avg loss\n",
    "\n",
    "reflect(True)"
   ]
  },
  {
   "cell_type": "code",
   "execution_count": 137,
   "metadata": {},
   "outputs": [],
   "source": [
    "def shuffle_database():\n",
    "    \"\"\" Shuffle the global database of rollouts in place. Doesn't return anything. Requires that database exist. \"\"\"\n",
    "    \n",
    "    global returns, frames, actions, old_action_probs, old_state_estimates\n",
    "    dataset_ix = torch.randperm(len(returns));\n",
    "    returns = returns[dataset_ix]\n",
    "    frames = frames[dataset_ix]\n",
    "    actions = actions[dataset_ix]\n",
    "    old_action_probs = old_action_probs[dataset_ix]\n",
    "    old_state_estimates = old_state_estimates[dataset_ix]"
   ]
  },
  {
   "cell_type": "code",
   "execution_count": null,
   "metadata": {
    "colab": {
     "base_uri": "https://localhost:8080/",
     "height": 1000
    },
    "colab_type": "code",
    "id": "Dq1nhwUEE3ue",
    "outputId": "bba11419-9656-4001-d0a9-f5c849629cab",
    "scrolled": true
   },
   "outputs": [
    {
     "name": "stdout",
     "output_type": "stream",
     "text": [
      "0 1.5168067\n"
     ]
    }
   ],
   "source": [
    "# Train. 'Easy' mode takes ~3 hours on single GPU. Go outside for a run.\n",
    "\n",
    "scores = []; losses = [];\n",
    "\n",
    "for i in range(n_rounds):\n",
    "    with torch.no_grad():\n",
    "        returns, frames, actions, old_action_probs, old_state_estimates, epinfos = gather_trajectories() # refresh 'database'\n",
    "        avg_score = get_avg_score(epinfos)\n",
    "        scores.append(avg_score)\n",
    "    \n",
    "    for e in range(n_opt_epochs):\n",
    "        shuffle_database()\n",
    "        loss = reflect(verbose = False)\n",
    "        losses.append(loss)\n",
    "    \n",
    "    if i % 100 == 0: print(i, avg_score)"
   ]
  },
  {
   "cell_type": "code",
   "execution_count": null,
   "metadata": {
    "colab": {},
    "colab_type": "code",
    "id": "l98cCvTzE3uf",
    "scrolled": true
   },
   "outputs": [],
   "source": [
    "torch.save(agent.state_dict(), env_name +\" agent.torch\")"
   ]
  },
  {
   "cell_type": "code",
   "execution_count": null,
   "metadata": {
    "colab": {
     "base_uri": "https://localhost:8080/",
     "height": 282
    },
    "colab_type": "code",
    "id": "ud1d3tzdE3uh",
    "outputId": "dfb58a38-7d25-4b96-81c4-6b401e06c724"
   },
   "outputs": [],
   "source": [
    "plt.plot(range(len(scores)), scores)\n",
    "plt.title(\"Scores \" + env_name)"
   ]
  },
  {
   "cell_type": "markdown",
   "metadata": {},
   "source": [
    "## Manually Inspect Performance"
   ]
  },
  {
   "cell_type": "code",
   "execution_count": 40,
   "metadata": {
    "colab": {},
    "colab_type": "code",
    "id": "Fhg4-NIuE3uo"
   },
   "outputs": [
    {
     "data": {
      "text/plain": [
       "(torch.Size([18432]), torch.Size([18432, 3, 64, 64]))"
      ]
     },
     "execution_count": 40,
     "metadata": {},
     "output_type": "execute_result"
    }
   ],
   "source": [
    "# Generate some fresh data\n",
    "\n",
    "with torch.no_grad():\n",
    "    returns, frames, actions, old_action_probs, old_state_estimates, epinfos = gather_trajectories()\n",
    "    \n",
    "returns.shape, frames.shape"
   ]
  },
  {
   "cell_type": "code",
   "execution_count": 41,
   "metadata": {},
   "outputs": [],
   "source": [
    "n_vid_steps = 1000"
   ]
  },
  {
   "cell_type": "code",
   "execution_count": 42,
   "metadata": {
    "colab": {},
    "colab_type": "code",
    "id": "q68ytRIRE3uq"
   },
   "outputs": [
    {
     "data": {
      "text/plain": [
       "<matplotlib.legend.Legend at 0x2392a0a3548>"
      ]
     },
     "execution_count": 42,
     "metadata": {},
     "output_type": "execute_result"
    },
    {
     "data": {
      "image/png": "[encoded data removed]",
      "text/plain": [
       "<Figure size 1440x360 with 1 Axes>"
      ]
     },
     "metadata": {
      "needs_background": "light"
     },
     "output_type": "display_data"
    }
   ],
   "source": [
    "plt.figure(figsize=(20,5))\n",
    "plt.plot(range(len(returns[:n_vid_steps])), returns[:n_vid_steps])\n",
    "plt.plot(range(len(returns[:n_vid_steps])), old_state_estimates[:n_vid_steps])\n",
    "plt.title(\"Actual Returns vs Estimated Returns\")\n",
    "plt.legend([\"Actual\", \"Estimated\"])"
   ]
  },
  {
   "cell_type": "code",
   "execution_count": 43,
   "metadata": {
    "colab": {},
    "colab_type": "code",
    "id": "l0R2K9E-E3up"
   },
   "outputs": [],
   "source": [
    "# Make a video so we can watch the agent play. Always do this.\n",
    "\n",
    "frames_np = frames[:n_vid_steps].numpy()\n",
    "returns_vid = returns[:n_vid_steps]; returns_vid -= returns_vid.min(); returns_vid /= returns_vid.max()\n",
    "\n",
    "height , width , layers =  64,64,3\n",
    "fps = 14\n",
    "video = cv2.VideoWriter(env_name + '_agent_run.avi', cv2.VideoWriter_fourcc(*\"MJPG\"), fps, (width,height))\n",
    "\n",
    "for i in range(n_vid_steps):\n",
    "    f = frames_np[i];\n",
    "    f = np.transpose(f, (1, 2, 0)) # prep axis numpy style\n",
    "    f = np.uint8(f*255)\n",
    "    r = returns_vid[i];\n",
    "    \n",
    "    # Adding a square in top-left to display actual returns. White is highest returns, black is lowest.\n",
    "    f[:5, :5, :] = 255 * r \n",
    "    \n",
    "    video.write(f)\n",
    "\n",
    "cv2.destroyAllWindows()\n",
    "video.release()\n",
    "\n",
    "# Video is now in root directory. If in colab, can download video with colab files functionality"
   ]
  }
 ],
 "metadata": {
  "accelerator": "GPU",
  "colab": {
   "name": "PPO.ipynb",
   "provenance": []
  },
  "kernelspec": {
   "display_name": "Python 3 (ipykernel)",
   "language": "python",
   "name": "python3"
  },
  "language_info": {
   "codemirror_mode": {
    "name": "ipython",
    "version": 3
   },
   "file_extension": ".py",
   "mimetype": "text/x-python",
   "name": "python",
   "nbconvert_exporter": "python",
   "pygments_lexer": "ipython3",
   "version": "3.9.6"
  }
 },
 "nbformat": 4,
 "nbformat_minor": 4
}
